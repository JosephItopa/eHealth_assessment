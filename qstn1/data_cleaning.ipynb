{
 "cells": [
  {
   "cell_type": "code",
   "execution_count": 277,
   "metadata": {},
   "outputs": [],
   "source": [
    "from datetime import datetime\n",
    "import pandas as pd\n",
    "import numpy as np"
   ]
  },
  {
   "cell_type": "code",
   "execution_count": 278,
   "metadata": {},
   "outputs": [
    {
     "name": "stderr",
     "output_type": "stream",
     "text": [
      "C:\\Users\\Dell\\AppData\\Local\\Temp\\ipykernel_13976\\3532330252.py:2: DtypeWarning: Columns (8,9,10,13,16,20,24,32,45) have mixed types. Specify dtype option on import or set low_memory=False.\n",
      "  df = pd.read_csv(\"COVID19 - COVID19.csv\")\n"
     ]
    },
    {
     "name": "stdout",
     "output_type": "stream",
     "text": [
      "<class 'pandas.core.frame.DataFrame'>\n",
      "RangeIndex: 109927 entries, 0 to 109926\n",
      "Data columns (total 47 columns):\n",
      " #   Column                                     Non-Null Count   Dtype  \n",
      "---  ------                                     --------------   -----  \n",
      " 0   Sex                                        107228 non-null  object \n",
      " 1   Birth Year                                 94963 non-null   float64\n",
      " 2   Chest pain                                 42120 non-null   object \n",
      " 3   Chills or sweats                           24857 non-null   object \n",
      " 4   Confused or disoriented                    23127 non-null   object \n",
      " 5   Cough                                      42218 non-null   object \n",
      " 6   Diarrhea                                   42092 non-null   object \n",
      " 7   Difficulty breathing or Dyspnea            24940 non-null   object \n",
      " 8   Digested blood or coffee grounds in vomit  1397 non-null    object \n",
      " 9   Pain behind eyes or Sensitivity to light   1405 non-null    object \n",
      " 10  Bleeding from the eyes                     1397 non-null    object \n",
      " 11  Fatigue or general weakness                42158 non-null   object \n",
      " 12  Fever                                      42229 non-null   object \n",
      " 13  Fluid in the lung cavity                   1404 non-null    object \n",
      " 14  Fluid in lung cavity in auscultation       23426 non-null   object \n",
      " 15  Fluid in cavity through X-Ray              23416 non-null   object \n",
      " 16  Bleeding of the gums                       1397 non-null    object \n",
      " 17  Headache                                   42080 non-null   object \n",
      " 18  Joint pain or arthritis                    24830 non-null   object \n",
      " 19  Thorax (sore throat)                       40670 non-null   object \n",
      " 20  Malaise                                    3006 non-null    object \n",
      " 21  Muscle pain                                23434 non-null   object \n",
      " 22  Nausea                                     40674 non-null   object \n",
      " 23  Other clinical symptoms                    23506 non-null   object \n",
      " 24  Pharyngeal exudate                         2999 non-null    object \n",
      " 25  Rapid breathing                            22829 non-null   object \n",
      " 26  Runny nose                                 40677 non-null   object \n",
      " 27  Maculopapular rash                         21032 non-null   object \n",
      " 28  Sore throat or pharyngitis                 40670 non-null   object \n",
      " 29  Bleeding or bruising                       21030 non-null   object \n",
      " 30  Vomiting                                   40669 non-null   object \n",
      " 31  Abnormal lung X-Ray findings               23566 non-null   object \n",
      " 32  Conjunctivitis                             18653 non-null   object \n",
      " 33  Acute respiratory distress syndrome        23532 non-null   object \n",
      " 34  Pneumonia (clinical or radiologic)         23414 non-null   object \n",
      " 35  Loss of Taste                              39837 non-null   object \n",
      " 36  Loss of Smell                              39829 non-null   object \n",
      " 37  Cough with sputum                          22181 non-null   object \n",
      " 38  Cough with heamoptysis                     22180 non-null   object \n",
      " 39  Enlarged lymph nodes                       21043 non-null   object \n",
      " 40  Wheezing                                   21025 non-null   object \n",
      " 41  Skin ulcers                                21023 non-null   object \n",
      " 42  Inability to walk                          21032 non-null   object \n",
      " 43  Indrawing of chest wall                    21023 non-null   object \n",
      " 44  Other complications                        20752 non-null   float64\n",
      " 45  Specify other complications                5 non-null       object \n",
      " 46  Result                                     75416 non-null   object \n",
      "dtypes: float64(2), object(45)\n",
      "memory usage: 39.4+ MB\n"
     ]
    },
    {
     "data": {
      "text/plain": [
       "(109927, 47)"
      ]
     },
     "metadata": {},
     "output_type": "display_data"
    },
    {
     "data": {
      "text/plain": [
       "None"
      ]
     },
     "metadata": {},
     "output_type": "display_data"
    }
   ],
   "source": [
    "# load the data\n",
    "df = pd.read_csv(\"COVID19 - COVID19.csv\")\n",
    "display(df.shape, df.info())"
   ]
  },
  {
   "cell_type": "code",
   "execution_count": 279,
   "metadata": {},
   "outputs": [
    {
     "data": {
      "text/plain": [
       "Sex                                            2699\n",
       "Birth Year                                    14964\n",
       "Chest pain                                    67807\n",
       "Chills or sweats                              85070\n",
       "Confused or disoriented                       86800\n",
       "Cough                                         67709\n",
       "Diarrhea                                      67835\n",
       "Difficulty breathing or Dyspnea               84987\n",
       "Digested blood or coffee grounds in vomit    108530\n",
       "Pain behind eyes or Sensitivity to light     108522\n",
       "Bleeding from the eyes                       108530\n",
       "Fatigue or general weakness                   67769\n",
       "Fever                                         67698\n",
       "Fluid in the lung cavity                     108523\n",
       "Fluid in lung cavity in auscultation          86501\n",
       "Fluid in cavity through X-Ray                 86511\n",
       "Bleeding of the gums                         108530\n",
       "Headache                                      67847\n",
       "Joint pain or arthritis                       85097\n",
       "Thorax (sore throat)                          69257\n",
       "Malaise                                      106921\n",
       "Muscle pain                                   86493\n",
       "Nausea                                        69253\n",
       "Other clinical symptoms                       86421\n",
       "Pharyngeal exudate                           106928\n",
       "Rapid breathing                               87098\n",
       "Runny nose                                    69250\n",
       "Maculopapular rash                            88895\n",
       "Sore throat or pharyngitis                    69257\n",
       "Bleeding or bruising                          88897\n",
       "Vomiting                                      69258\n",
       "Abnormal lung X-Ray findings                  86361\n",
       "Conjunctivitis                                91274\n",
       "Acute respiratory distress syndrome           86395\n",
       "Pneumonia (clinical or radiologic)            86513\n",
       "Loss of Taste                                 70090\n",
       "Loss of Smell                                 70098\n",
       "Cough with sputum                             87746\n",
       "Cough with heamoptysis                        87747\n",
       "Enlarged lymph nodes                          88884\n",
       "Wheezing                                      88902\n",
       "Skin ulcers                                   88904\n",
       "Inability to walk                             88895\n",
       "Indrawing of chest wall                       88904\n",
       "Other complications                           89175\n",
       "Specify other complications                  109922\n",
       "Result                                        34511\n",
       "dtype: int64"
      ]
     },
     "execution_count": 279,
     "metadata": {},
     "output_type": "execute_result"
    }
   ],
   "source": [
    "# check for missing values\n",
    "df.isnull().sum()"
   ]
  },
  {
   "cell_type": "code",
   "execution_count": 280,
   "metadata": {},
   "outputs": [
    {
     "data": {
      "text/plain": [
       "Result\n",
       "NEGATIVE         49371\n",
       "PENDING          21711\n",
       "POSITIVE          4330\n",
       "INDETERMINATE        4\n",
       "Name: count, dtype: int64"
      ]
     },
     "execution_count": 280,
     "metadata": {},
     "output_type": "execute_result"
    }
   ],
   "source": [
    "df[\"Result\"].value_counts()"
   ]
  },
  {
   "cell_type": "code",
   "execution_count": 281,
   "metadata": {},
   "outputs": [
    {
     "data": {
      "text/plain": [
       "(75416, 47)"
      ]
     },
     "execution_count": 281,
     "metadata": {},
     "output_type": "execute_result"
    }
   ],
   "source": [
    "#df[\"Result\"]\n",
    "dfn = df[(df[\"Result\"] == \"PENDING\") | (df[\"Result\"] == \"NEGATIVE\") |\\\n",
    "     (df[\"Result\"] == \"POSITIVE\") | (df[\"Result\"] == \"INDETERMINATE\")]\n",
    "dfn.shape"
   ]
  },
  {
   "cell_type": "code",
   "execution_count": 282,
   "metadata": {},
   "outputs": [
    {
     "name": "stdout",
     "output_type": "stream",
     "text": [
      "<class 'pandas.core.frame.DataFrame'>\n",
      "Index: 75416 entries, 0 to 109926\n",
      "Data columns (total 47 columns):\n",
      " #   Column                                     Non-Null Count  Dtype  \n",
      "---  ------                                     --------------  -----  \n",
      " 0   Sex                                        73978 non-null  object \n",
      " 1   Birth Year                                 63089 non-null  float64\n",
      " 2   Chest pain                                 40372 non-null  object \n",
      " 3   Chills or sweats                           23110 non-null  object \n",
      " 4   Confused or disoriented                    21579 non-null  object \n",
      " 5   Cough                                      40370 non-null  object \n",
      " 6   Diarrhea                                   40345 non-null  object \n",
      " 7   Difficulty breathing or Dyspnea            23098 non-null  object \n",
      " 8   Digested blood or coffee grounds in vomit  1397 non-null   object \n",
      " 9   Pain behind eyes or Sensitivity to light   1405 non-null   object \n",
      " 10  Bleeding from the eyes                     1397 non-null   object \n",
      " 11  Fatigue or general weakness                40319 non-null  object \n",
      " 12  Fever                                      40382 non-null  object \n",
      " 13  Fluid in the lung cavity                   1404 non-null   object \n",
      " 14  Fluid in lung cavity in auscultation       21679 non-null  object \n",
      " 15  Fluid in cavity through X-Ray              21669 non-null  object \n",
      " 16  Bleeding of the gums                       1397 non-null   object \n",
      " 17  Headache                                   40330 non-null  object \n",
      " 18  Joint pain or arthritis                    23082 non-null  object \n",
      " 19  Thorax (sore throat)                       38923 non-null  object \n",
      " 20  Malaise                                    3005 non-null   object \n",
      " 21  Muscle pain                                21686 non-null  object \n",
      " 22  Nausea                                     38930 non-null  object \n",
      " 23  Other clinical symptoms                    21668 non-null  object \n",
      " 24  Pharyngeal exudate                         2998 non-null   object \n",
      " 25  Rapid breathing                            21088 non-null  object \n",
      " 26  Runny nose                                 38934 non-null  object \n",
      " 27  Maculopapular rash                         19286 non-null  object \n",
      " 28  Sore throat or pharyngitis                 38923 non-null  object \n",
      " 29  Bleeding or bruising                       19286 non-null  object \n",
      " 30  Vomiting                                   38924 non-null  object \n",
      " 31  Abnormal lung X-Ray findings               21819 non-null  object \n",
      " 32  Conjunctivitis                             18653 non-null  object \n",
      " 33  Acute respiratory distress syndrome        21785 non-null  object \n",
      " 34  Pneumonia (clinical or radiologic)         21671 non-null  object \n",
      " 35  Loss of Taste                              38092 non-null  object \n",
      " 36  Loss of Smell                              38083 non-null  object \n",
      " 37  Cough with sputum                          20435 non-null  object \n",
      " 38  Cough with heamoptysis                     20434 non-null  object \n",
      " 39  Enlarged lymph nodes                       19300 non-null  object \n",
      " 40  Wheezing                                   19280 non-null  object \n",
      " 41  Skin ulcers                                19278 non-null  object \n",
      " 42  Inability to walk                          19287 non-null  object \n",
      " 43  Indrawing of chest wall                    19278 non-null  object \n",
      " 44  Other complications                        19205 non-null  float64\n",
      " 45  Specify other complications                5 non-null      object \n",
      " 46  Result                                     75416 non-null  object \n",
      "dtypes: float64(2), object(45)\n",
      "memory usage: 27.6+ MB\n"
     ]
    }
   ],
   "source": [
    "# check for missing values\n",
    "dfn.info()"
   ]
  },
  {
   "cell_type": "code",
   "execution_count": 283,
   "metadata": {},
   "outputs": [],
   "source": [
    "# drop columns missing values above 50% of its entire population\n",
    "dfn = dfn.drop([\"Chills or sweats\", \"Confused or disoriented\", \"Difficulty breathing or Dyspnea\",\\\n",
    "    \"Digested blood or coffee grounds in vomit\", \"Pain behind eyes or Sensitivity to light\",\\\n",
    "    \"Bleeding from the eyes\", \"Fluid in the lung cavity\", \"Fluid in lung cavity in auscultation\",\\\n",
    "    \"Fluid in cavity through X-Ray\", \"Bleeding of the gums\", \"Joint pain or arthritis\",\\\n",
    "    \"Malaise\", \"Muscle pain\", \"Other clinical symptoms\", \"Pharyngeal exudate\", \"Rapid breathing\",\\\n",
    "    \"Maculopapular rash\", \"Bleeding or bruising\", \"Abnormal lung X-Ray findings\", \"Conjunctivitis\",\\\n",
    "    \"Acute respiratory distress syndrome\", \"Pneumonia (clinical or radiologic)\", \"Cough with sputum\",\\\n",
    "    \"Cough with heamoptysis\", \"Enlarged lymph nodes\", \"Wheezing\", \"Skin ulcers\", \"Inability to walk\",\\\n",
    "    \"Indrawing of chest wall\", \"Other complications\", \"Specify other complications\", ], axis = 1)"
   ]
  },
  {
   "cell_type": "code",
   "execution_count": 284,
   "metadata": {},
   "outputs": [
    {
     "data": {
      "text/plain": [
       "(75416, 16)"
      ]
     },
     "metadata": {},
     "output_type": "display_data"
    },
    {
     "data": {
      "text/html": [
       "<div>\n",
       "<style scoped>\n",
       "    .dataframe tbody tr th:only-of-type {\n",
       "        vertical-align: middle;\n",
       "    }\n",
       "\n",
       "    .dataframe tbody tr th {\n",
       "        vertical-align: top;\n",
       "    }\n",
       "\n",
       "    .dataframe thead th {\n",
       "        text-align: right;\n",
       "    }\n",
       "</style>\n",
       "<table border=\"1\" class=\"dataframe\">\n",
       "  <thead>\n",
       "    <tr style=\"text-align: right;\">\n",
       "      <th></th>\n",
       "      <th>Sex</th>\n",
       "      <th>Birth Year</th>\n",
       "      <th>Chest pain</th>\n",
       "      <th>Cough</th>\n",
       "      <th>Diarrhea</th>\n",
       "      <th>Fatigue or general weakness</th>\n",
       "      <th>Fever</th>\n",
       "      <th>Headache</th>\n",
       "      <th>Thorax (sore throat)</th>\n",
       "      <th>Nausea</th>\n",
       "      <th>Runny nose</th>\n",
       "      <th>Sore throat or pharyngitis</th>\n",
       "      <th>Vomiting</th>\n",
       "      <th>Loss of Taste</th>\n",
       "      <th>Loss of Smell</th>\n",
       "      <th>Result</th>\n",
       "    </tr>\n",
       "  </thead>\n",
       "  <tbody>\n",
       "    <tr>\n",
       "      <th>0</th>\n",
       "      <td>MALE</td>\n",
       "      <td>1967.0</td>\n",
       "      <td>NO</td>\n",
       "      <td>NO</td>\n",
       "      <td>NO</td>\n",
       "      <td>NO</td>\n",
       "      <td>NO</td>\n",
       "      <td>NO</td>\n",
       "      <td>NO</td>\n",
       "      <td>NO</td>\n",
       "      <td>NO</td>\n",
       "      <td>NO</td>\n",
       "      <td>NO</td>\n",
       "      <td>NO</td>\n",
       "      <td>NO</td>\n",
       "      <td>PENDING</td>\n",
       "    </tr>\n",
       "    <tr>\n",
       "      <th>2</th>\n",
       "      <td>MALE</td>\n",
       "      <td>1988.0</td>\n",
       "      <td>NO</td>\n",
       "      <td>NO</td>\n",
       "      <td>NO</td>\n",
       "      <td>NO</td>\n",
       "      <td>YES</td>\n",
       "      <td>NO</td>\n",
       "      <td>NO</td>\n",
       "      <td>NO</td>\n",
       "      <td>NO</td>\n",
       "      <td>NO</td>\n",
       "      <td>NO</td>\n",
       "      <td>NaN</td>\n",
       "      <td>NaN</td>\n",
       "      <td>NEGATIVE</td>\n",
       "    </tr>\n",
       "    <tr>\n",
       "      <th>4</th>\n",
       "      <td>FEMALE</td>\n",
       "      <td>1978.0</td>\n",
       "      <td>NO</td>\n",
       "      <td>YES</td>\n",
       "      <td>NO</td>\n",
       "      <td>NO</td>\n",
       "      <td>NO</td>\n",
       "      <td>NO</td>\n",
       "      <td>YES</td>\n",
       "      <td>NO</td>\n",
       "      <td>YES</td>\n",
       "      <td>YES</td>\n",
       "      <td>NO</td>\n",
       "      <td>NaN</td>\n",
       "      <td>NaN</td>\n",
       "      <td>NEGATIVE</td>\n",
       "    </tr>\n",
       "  </tbody>\n",
       "</table>\n",
       "</div>"
      ],
      "text/plain": [
       "      Sex  Birth Year Chest pain Cough Diarrhea Fatigue or general weakness  \\\n",
       "0    MALE      1967.0         NO    NO       NO                          NO   \n",
       "2    MALE      1988.0         NO    NO       NO                          NO   \n",
       "4  FEMALE      1978.0         NO   YES       NO                          NO   \n",
       "\n",
       "  Fever Headache Thorax (sore throat) Nausea Runny nose  \\\n",
       "0    NO       NO                   NO     NO         NO   \n",
       "2   YES       NO                   NO     NO         NO   \n",
       "4    NO       NO                  YES     NO        YES   \n",
       "\n",
       "  Sore throat or pharyngitis Vomiting Loss of Taste Loss of Smell    Result  \n",
       "0                         NO       NO            NO            NO   PENDING  \n",
       "2                         NO       NO           NaN           NaN  NEGATIVE  \n",
       "4                        YES       NO           NaN           NaN  NEGATIVE  "
      ]
     },
     "metadata": {},
     "output_type": "display_data"
    }
   ],
   "source": [
    "display(dfn.shape, dfn.head(3))"
   ]
  },
  {
   "cell_type": "code",
   "execution_count": 285,
   "metadata": {},
   "outputs": [
    {
     "name": "stdout",
     "output_type": "stream",
     "text": [
      "<class 'pandas.core.frame.DataFrame'>\n",
      "Index: 75416 entries, 0 to 109926\n",
      "Data columns (total 16 columns):\n",
      " #   Column                       Non-Null Count  Dtype  \n",
      "---  ------                       --------------  -----  \n",
      " 0   Sex                          73978 non-null  object \n",
      " 1   Birth Year                   63089 non-null  float64\n",
      " 2   Chest pain                   40372 non-null  object \n",
      " 3   Cough                        40370 non-null  object \n",
      " 4   Diarrhea                     40345 non-null  object \n",
      " 5   Fatigue or general weakness  40319 non-null  object \n",
      " 6   Fever                        40382 non-null  object \n",
      " 7   Headache                     40330 non-null  object \n",
      " 8   Thorax (sore throat)         38923 non-null  object \n",
      " 9   Nausea                       38930 non-null  object \n",
      " 10  Runny nose                   38934 non-null  object \n",
      " 11  Sore throat or pharyngitis   38923 non-null  object \n",
      " 12  Vomiting                     38924 non-null  object \n",
      " 13  Loss of Taste                38092 non-null  object \n",
      " 14  Loss of Smell                38083 non-null  object \n",
      " 15  Result                       75416 non-null  object \n",
      "dtypes: float64(1), object(15)\n",
      "memory usage: 9.8+ MB\n"
     ]
    }
   ],
   "source": [
    "dfn.info()"
   ]
  },
  {
   "cell_type": "code",
   "execution_count": 286,
   "metadata": {},
   "outputs": [],
   "source": [
    "# drop rows with missing date of birth\n",
    "dfn = dfn.dropna(subset=[\"Birth Year\"])"
   ]
  },
  {
   "cell_type": "code",
   "execution_count": 287,
   "metadata": {},
   "outputs": [],
   "source": [
    "# evaluate the age from year of birth\n",
    "# Convert to integer (if needed)\n",
    "dfn['Birth Year'] = dfn['Birth Year'].astype(int)\n",
    "\n",
    "# Get the current year\n",
    "current_year = datetime.now().year\n",
    "\n",
    "# Compute the age\n",
    "dfn['age'] = current_year - dfn['Birth Year']"
   ]
  },
  {
   "cell_type": "code",
   "execution_count": 288,
   "metadata": {},
   "outputs": [
    {
     "data": {
      "text/html": [
       "<div>\n",
       "<style scoped>\n",
       "    .dataframe tbody tr th:only-of-type {\n",
       "        vertical-align: middle;\n",
       "    }\n",
       "\n",
       "    .dataframe tbody tr th {\n",
       "        vertical-align: top;\n",
       "    }\n",
       "\n",
       "    .dataframe thead th {\n",
       "        text-align: right;\n",
       "    }\n",
       "</style>\n",
       "<table border=\"1\" class=\"dataframe\">\n",
       "  <thead>\n",
       "    <tr style=\"text-align: right;\">\n",
       "      <th></th>\n",
       "      <th>Sex</th>\n",
       "      <th>Birth Year</th>\n",
       "      <th>Chest pain</th>\n",
       "      <th>Cough</th>\n",
       "      <th>Diarrhea</th>\n",
       "      <th>Fatigue or general weakness</th>\n",
       "      <th>Fever</th>\n",
       "      <th>Headache</th>\n",
       "      <th>Thorax (sore throat)</th>\n",
       "      <th>Nausea</th>\n",
       "      <th>Runny nose</th>\n",
       "      <th>Sore throat or pharyngitis</th>\n",
       "      <th>Vomiting</th>\n",
       "      <th>Loss of Taste</th>\n",
       "      <th>Loss of Smell</th>\n",
       "      <th>Result</th>\n",
       "      <th>age</th>\n",
       "    </tr>\n",
       "  </thead>\n",
       "  <tbody>\n",
       "    <tr>\n",
       "      <th>0</th>\n",
       "      <td>MALE</td>\n",
       "      <td>1967</td>\n",
       "      <td>NO</td>\n",
       "      <td>NO</td>\n",
       "      <td>NO</td>\n",
       "      <td>NO</td>\n",
       "      <td>NO</td>\n",
       "      <td>NO</td>\n",
       "      <td>NO</td>\n",
       "      <td>NO</td>\n",
       "      <td>NO</td>\n",
       "      <td>NO</td>\n",
       "      <td>NO</td>\n",
       "      <td>NO</td>\n",
       "      <td>NO</td>\n",
       "      <td>PENDING</td>\n",
       "      <td>58</td>\n",
       "    </tr>\n",
       "    <tr>\n",
       "      <th>2</th>\n",
       "      <td>MALE</td>\n",
       "      <td>1988</td>\n",
       "      <td>NO</td>\n",
       "      <td>NO</td>\n",
       "      <td>NO</td>\n",
       "      <td>NO</td>\n",
       "      <td>YES</td>\n",
       "      <td>NO</td>\n",
       "      <td>NO</td>\n",
       "      <td>NO</td>\n",
       "      <td>NO</td>\n",
       "      <td>NO</td>\n",
       "      <td>NO</td>\n",
       "      <td>NaN</td>\n",
       "      <td>NaN</td>\n",
       "      <td>NEGATIVE</td>\n",
       "      <td>37</td>\n",
       "    </tr>\n",
       "  </tbody>\n",
       "</table>\n",
       "</div>"
      ],
      "text/plain": [
       "    Sex  Birth Year Chest pain Cough Diarrhea Fatigue or general weakness  \\\n",
       "0  MALE        1967         NO    NO       NO                          NO   \n",
       "2  MALE        1988         NO    NO       NO                          NO   \n",
       "\n",
       "  Fever Headache Thorax (sore throat) Nausea Runny nose  \\\n",
       "0    NO       NO                   NO     NO         NO   \n",
       "2   YES       NO                   NO     NO         NO   \n",
       "\n",
       "  Sore throat or pharyngitis Vomiting Loss of Taste Loss of Smell    Result  \\\n",
       "0                         NO       NO            NO            NO   PENDING   \n",
       "2                         NO       NO           NaN           NaN  NEGATIVE   \n",
       "\n",
       "   age  \n",
       "0   58  \n",
       "2   37  "
      ]
     },
     "execution_count": 288,
     "metadata": {},
     "output_type": "execute_result"
    }
   ],
   "source": [
    "dfn.head(2)"
   ]
  },
  {
   "cell_type": "code",
   "execution_count": 289,
   "metadata": {},
   "outputs": [],
   "source": [
    "## replace missing values"
   ]
  },
  {
   "cell_type": "code",
   "execution_count": 290,
   "metadata": {},
   "outputs": [],
   "source": [
    "# Columns where \"UNKNOWN\" should be replaced with NaN\n",
    "columns_to_replace_unknown = [\"Chest pain\", \"Cough\", 'Diarrhea','Fatigue or general weakness', 'Fever', 'Headache',\n",
    "                    'Thorax (sore throat)', 'Nausea', 'Runny nose','Sore throat or pharyngitis', 'Vomiting',\n",
    "                    'Loss of Taste', 'Loss of Smell']  # Only replace in these columns\n",
    "\n",
    "# Replace \"UNKNOWN\" with NaN in selected columns only\n",
    "dfn[columns_to_replace_unknown] = dfn[columns_to_replace_unknown].replace(\"UNKNOWN\", pd.NA)"
   ]
  },
  {
   "cell_type": "code",
   "execution_count": 291,
   "metadata": {},
   "outputs": [],
   "source": [
    "# Columns to fill missing values for\n",
    "columns_to_fill = [\"Chest pain\", \"Cough\", 'Diarrhea','Fatigue or general weakness', 'Fever', 'Headache',\n",
    "                    'Thorax (sore throat)', 'Nausea', 'Runny nose','Sore throat or pharyngitis', 'Vomiting',\n",
    "                    'Loss of Taste', 'Loss of Smell']\n",
    "                    \n",
    "# Define conditions\n",
    "conditions = {\n",
    "    \"child_male\": (dfn['Sex'] == 'MALE') & (dfn['age'] < 18),\n",
    "    \"child_female\": (dfn['Sex'] == 'FEMALE') & (dfn['age'] < 18),\n",
    "    \"adult_male\": (dfn['Sex'] == 'MALE') & (dfn['age'] > 18) & (dfn['age'] < 50),\n",
    "    \"adult_female\": (dfn['Sex'] == 'FEMALE') & (dfn['age'] > 18) & (dfn['age'] < 50),\n",
    "    \"old_male\": (dfn['Sex'] == 'MALE') & (dfn['age'] > 50),\n",
    "    \"old_female\": (dfn['Sex'] == 'FEMALE') & (dfn['age'] > 50),\n",
    "}"
   ]
  },
  {
   "cell_type": "code",
   "execution_count": 292,
   "metadata": {},
   "outputs": [],
   "source": [
    "# Fill missing values for each column based on the mode of each condition\n",
    "for col in columns_to_fill:\n",
    "    for condition_name, condition in conditions.items():\n",
    "        subset = dfn.loc[condition, col].dropna()  # Get non-null values for this condition\n",
    "        if not subset.empty:\n",
    "            mode_value = subset.mode().iloc[0]  # Get mode (most frequent value)\n",
    "            dfn.loc[condition & dfn[col].isna(), col] = mode_value  # Fill NaNs only"
   ]
  },
  {
   "cell_type": "code",
   "execution_count": 293,
   "metadata": {},
   "outputs": [
    {
     "name": "stdout",
     "output_type": "stream",
     "text": [
      "<class 'pandas.core.frame.DataFrame'>\n",
      "Index: 63089 entries, 0 to 109926\n",
      "Data columns (total 17 columns):\n",
      " #   Column                       Non-Null Count  Dtype \n",
      "---  ------                       --------------  ----- \n",
      " 0   Sex                          62195 non-null  object\n",
      " 1   Birth Year                   63089 non-null  int64 \n",
      " 2   Chest pain                   61273 non-null  object\n",
      " 3   Cough                        61270 non-null  object\n",
      " 4   Diarrhea                     61269 non-null  object\n",
      " 5   Fatigue or general weakness  61268 non-null  object\n",
      " 6   Fever                        61269 non-null  object\n",
      " 7   Headache                     61270 non-null  object\n",
      " 8   Thorax (sore throat)         61263 non-null  object\n",
      " 9   Nausea                       61263 non-null  object\n",
      " 10  Runny nose                   61265 non-null  object\n",
      " 11  Sore throat or pharyngitis   61263 non-null  object\n",
      " 12  Vomiting                     61266 non-null  object\n",
      " 13  Loss of Taste                61245 non-null  object\n",
      " 14  Loss of Smell                61245 non-null  object\n",
      " 15  Result                       63089 non-null  object\n",
      " 16  age                          63089 non-null  int64 \n",
      "dtypes: int64(2), object(15)\n",
      "memory usage: 8.7+ MB\n"
     ]
    }
   ],
   "source": [
    "dfn.info()"
   ]
  },
  {
   "cell_type": "code",
   "execution_count": 294,
   "metadata": {},
   "outputs": [
    {
     "data": {
      "text/plain": [
       "Sex\n",
       "MALE       41287\n",
       "FEMALE     20905\n",
       "UNKNOWN        2\n",
       "OTHER          1\n",
       "Name: count, dtype: int64"
      ]
     },
     "execution_count": 294,
     "metadata": {},
     "output_type": "execute_result"
    }
   ],
   "source": [
    "#\n",
    "dfn[\"Sex\"].value_counts()"
   ]
  },
  {
   "cell_type": "code",
   "execution_count": 295,
   "metadata": {},
   "outputs": [
    {
     "name": "stdout",
     "output_type": "stream",
     "text": [
      "<class 'pandas.core.frame.DataFrame'>\n",
      "Index: 63089 entries, 0 to 109926\n",
      "Data columns (total 17 columns):\n",
      " #   Column                       Non-Null Count  Dtype \n",
      "---  ------                       --------------  ----- \n",
      " 0   Sex                          62195 non-null  object\n",
      " 1   Birth Year                   63089 non-null  int64 \n",
      " 2   Chest pain                   61273 non-null  object\n",
      " 3   Cough                        61270 non-null  object\n",
      " 4   Diarrhea                     61269 non-null  object\n",
      " 5   Fatigue or general weakness  61268 non-null  object\n",
      " 6   Fever                        61269 non-null  object\n",
      " 7   Headache                     61270 non-null  object\n",
      " 8   Thorax (sore throat)         61263 non-null  object\n",
      " 9   Nausea                       61263 non-null  object\n",
      " 10  Runny nose                   61265 non-null  object\n",
      " 11  Sore throat or pharyngitis   61263 non-null  object\n",
      " 12  Vomiting                     61266 non-null  object\n",
      " 13  Loss of Taste                61245 non-null  object\n",
      " 14  Loss of Smell                61245 non-null  object\n",
      " 15  Result                       63089 non-null  object\n",
      " 16  age                          63089 non-null  int64 \n",
      "dtypes: int64(2), object(15)\n",
      "memory usage: 8.7+ MB\n"
     ]
    }
   ],
   "source": [
    "#\n",
    "dfn = dfn[(dfn[\"Sex\"] != \"UNKNOWN\") | (dfn[\"Sex\"] != \"OTHER\")]\n",
    "dfn.info()"
   ]
  },
  {
   "cell_type": "code",
   "execution_count": 296,
   "metadata": {},
   "outputs": [
    {
     "data": {
      "text/plain": [
       "Sore throat or pharyngitis\n",
       "NO      60751\n",
       "NaN      1824\n",
       "YES       512\n",
       "<NA>        2\n",
       "Name: count, dtype: int64"
      ]
     },
     "execution_count": 296,
     "metadata": {},
     "output_type": "execute_result"
    }
   ],
   "source": [
    "dfn[\"Sore throat or pharyngitis\"].value_counts(dropna=False)"
   ]
  },
  {
   "cell_type": "code",
   "execution_count": 297,
   "metadata": {},
   "outputs": [
    {
     "name": "stdout",
     "output_type": "stream",
     "text": [
      "<class 'pandas.core.frame.DataFrame'>\n",
      "Index: 61010 entries, 0 to 109926\n",
      "Data columns (total 17 columns):\n",
      " #   Column                       Non-Null Count  Dtype \n",
      "---  ------                       --------------  ----- \n",
      " 0   Sex                          61010 non-null  object\n",
      " 1   Birth Year                   61010 non-null  int64 \n",
      " 2   Chest pain                   61010 non-null  object\n",
      " 3   Cough                        61010 non-null  object\n",
      " 4   Diarrhea                     61010 non-null  object\n",
      " 5   Fatigue or general weakness  61010 non-null  object\n",
      " 6   Fever                        61010 non-null  object\n",
      " 7   Headache                     61010 non-null  object\n",
      " 8   Thorax (sore throat)         61010 non-null  object\n",
      " 9   Nausea                       61010 non-null  object\n",
      " 10  Runny nose                   61010 non-null  object\n",
      " 11  Sore throat or pharyngitis   61010 non-null  object\n",
      " 12  Vomiting                     61010 non-null  object\n",
      " 13  Loss of Taste                61010 non-null  object\n",
      " 14  Loss of Smell                61010 non-null  object\n",
      " 15  Result                       61010 non-null  object\n",
      " 16  age                          61010 non-null  int64 \n",
      "dtypes: int64(2), object(15)\n",
      "memory usage: 8.4+ MB\n"
     ]
    }
   ],
   "source": [
    "# drop missing values that are less than 5% of the population in a column\n",
    "dfm = dfn.dropna()\n",
    "dfm.info()"
   ]
  },
  {
   "cell_type": "code",
   "execution_count": 298,
   "metadata": {},
   "outputs": [
    {
     "data": {
      "text/plain": [
       "np.int64(58519)"
      ]
     },
     "execution_count": 298,
     "metadata": {},
     "output_type": "execute_result"
    }
   ],
   "source": [
    "# check for duplicate entries\n",
    "dfm.duplicated().sum()"
   ]
  },
  {
   "cell_type": "code",
   "execution_count": 299,
   "metadata": {},
   "outputs": [
    {
     "data": {
      "text/plain": [
       "(2491, 17)"
      ]
     },
     "execution_count": 299,
     "metadata": {},
     "output_type": "execute_result"
    }
   ],
   "source": [
    "# 61010 - 58519\n",
    "dfm = dfm.drop_duplicates(keep=\"first\")\n",
    "dfm.shape"
   ]
  },
  {
   "cell_type": "code",
   "execution_count": 300,
   "metadata": {},
   "outputs": [],
   "source": [
    "# save the clean file\n",
    "dfm.to_csv(\"cleaned_covid.csv\", index=False)"
   ]
  }
 ],
 "metadata": {
  "interpreter": {
   "hash": "b86aa247c6762e1192ef30d4a148d9cb2e1093f7e81dd7f812977548b8bc96e6"
  },
  "kernelspec": {
   "display_name": "Python 3.12.8 64-bit",
   "language": "python",
   "name": "python3"
  },
  "language_info": {
   "codemirror_mode": {
    "name": "ipython",
    "version": 3
   },
   "file_extension": ".py",
   "mimetype": "text/x-python",
   "name": "python",
   "nbconvert_exporter": "python",
   "pygments_lexer": "ipython3",
   "version": "3.12.8"
  },
  "orig_nbformat": 4
 },
 "nbformat": 4,
 "nbformat_minor": 2
}
